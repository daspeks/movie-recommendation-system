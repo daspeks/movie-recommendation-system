{
 "cells": [
  {
   "cell_type": "markdown",
   "metadata": {},
   "source": [
    "# Load Python Packages & Data"
   ]
  },
  {
   "cell_type": "code",
   "execution_count": 1,
   "metadata": {
    "_cell_guid": "b1076dfc-b9ad-4769-8c92-a6c4dae69d19",
    "_uuid": "8f2839f25d086af736a60e9eeb907d3b93b6e0e5"
   },
   "outputs": [],
   "source": [
    "import math\n",
    "import numpy as np\n",
    "import pandas as pd\n",
    "import matplotlib.pyplot as plt\n",
    "import seaborn as sns\n",
    "\n",
    "# To run all commands in a cell\n",
    "# from IPython.core.interactiveshell import InteractiveShell\n",
    "# InteractiveShell.ast_node_interactivity = \"last_expr\" # default\n",
    "# InteractiveShell.ast_node_interactivity = \"all\""
   ]
  },
  {
   "cell_type": "code",
   "execution_count": 2,
   "metadata": {
    "_cell_guid": "79c7e3d0-c299-4dcb-8224-4455121ee9b0",
    "_uuid": "d629ff2d2480ee46fbb7e2d37f6b5fab8052498a"
   },
   "outputs": [
    {
     "data": {
      "text/html": [
       "<div>\n",
       "<style scoped>\n",
       "    .dataframe tbody tr th:only-of-type {\n",
       "        vertical-align: middle;\n",
       "    }\n",
       "\n",
       "    .dataframe tbody tr th {\n",
       "        vertical-align: top;\n",
       "    }\n",
       "\n",
       "    .dataframe thead th {\n",
       "        text-align: right;\n",
       "    }\n",
       "</style>\n",
       "<table border=\"1\" class=\"dataframe\">\n",
       "  <thead>\n",
       "    <tr style=\"text-align: right;\">\n",
       "      <th></th>\n",
       "      <th>userId</th>\n",
       "      <th>movieId</th>\n",
       "      <th>tag</th>\n",
       "      <th>timestamp</th>\n",
       "    </tr>\n",
       "  </thead>\n",
       "  <tbody>\n",
       "    <tr>\n",
       "      <th>0</th>\n",
       "      <td>15</td>\n",
       "      <td>339</td>\n",
       "      <td>sandra 'boring' bullock</td>\n",
       "      <td>1138537770</td>\n",
       "    </tr>\n",
       "    <tr>\n",
       "      <th>1</th>\n",
       "      <td>15</td>\n",
       "      <td>1955</td>\n",
       "      <td>dentist</td>\n",
       "      <td>1193435061</td>\n",
       "    </tr>\n",
       "    <tr>\n",
       "      <th>2</th>\n",
       "      <td>15</td>\n",
       "      <td>7478</td>\n",
       "      <td>Cambodia</td>\n",
       "      <td>1170560997</td>\n",
       "    </tr>\n",
       "    <tr>\n",
       "      <th>3</th>\n",
       "      <td>15</td>\n",
       "      <td>32892</td>\n",
       "      <td>Russian</td>\n",
       "      <td>1170626366</td>\n",
       "    </tr>\n",
       "    <tr>\n",
       "      <th>4</th>\n",
       "      <td>15</td>\n",
       "      <td>34162</td>\n",
       "      <td>forgettable</td>\n",
       "      <td>1141391765</td>\n",
       "    </tr>\n",
       "  </tbody>\n",
       "</table>\n",
       "</div>"
      ],
      "text/plain": [
       "   userId  movieId                      tag   timestamp\n",
       "0      15      339  sandra 'boring' bullock  1138537770\n",
       "1      15     1955                  dentist  1193435061\n",
       "2      15     7478                 Cambodia  1170560997\n",
       "3      15    32892                  Russian  1170626366\n",
       "4      15    34162              forgettable  1141391765"
      ]
     },
     "execution_count": 2,
     "metadata": {},
     "output_type": "execute_result"
    }
   ],
   "source": [
    "ratings = pd.read_csv('/kaggle/input/ratings.csv', usecols = ['userId', 'movieId', 'rating'])\n",
    "tags = pd.read_csv('/kaggle/input/tags.csv')\n",
    "movies = pd.read_csv('/kaggle/input/movies.csv')\n",
    "\n",
    "\n",
    "movies.head()\n",
    "ratings.head(20)\n",
    "tags.head()"
   ]
  },
  {
   "cell_type": "markdown",
   "metadata": {},
   "source": [
    "# Exploratory Data Analysis"
   ]
  },
  {
   "cell_type": "code",
   "execution_count": 3,
   "metadata": {},
   "outputs": [
    {
     "data": {
      "text/plain": [
       "userId       0\n",
       "movieId      0\n",
       "tag          0\n",
       "timestamp    0\n",
       "dtype: int64"
      ]
     },
     "execution_count": 3,
     "metadata": {},
     "output_type": "execute_result"
    }
   ],
   "source": [
    "# Understand ratings\n",
    "ratings.describe(include='all')\n",
    "\n",
    "# Check for null values\n",
    "movies.isnull().sum()\n",
    "ratings.isnull().sum()\n",
    "tags.isnull().sum()"
   ]
  },
  {
   "cell_type": "code",
   "execution_count": 4,
   "metadata": {},
   "outputs": [
    {
     "ename": "NameError",
     "evalue": "name 'InteractiveShell' is not defined",
     "output_type": "error",
     "traceback": [
      "\u001b[0;31m---------------------------------------------------------------------------\u001b[0m",
      "\u001b[0;31mNameError\u001b[0m                                 Traceback (most recent call last)",
      "\u001b[0;32m<ipython-input-4-d03fcfb08a1b>\u001b[0m in \u001b[0;36m<module>\u001b[0;34m\u001b[0m\n\u001b[0;32m----> 1\u001b[0;31m \u001b[0mInteractiveShell\u001b[0m\u001b[0;34m.\u001b[0m\u001b[0mast_node_interactivity\u001b[0m \u001b[0;34m=\u001b[0m \u001b[0;34m\"last_expr\"\u001b[0m\u001b[0;34m\u001b[0m\u001b[0m\n\u001b[0m\u001b[1;32m      2\u001b[0m \u001b[0;34m\u001b[0m\u001b[0m\n\u001b[1;32m      3\u001b[0m \u001b[0;31m# Check for duplicates in movies; if they exist, show the duplicates\u001b[0m\u001b[0;34m\u001b[0m\u001b[0;34m\u001b[0m\u001b[0m\n\u001b[1;32m      4\u001b[0m \u001b[0;32mif\u001b[0m \u001b[0mmovies\u001b[0m\u001b[0;34m[\u001b[0m\u001b[0;34m'title'\u001b[0m\u001b[0;34m]\u001b[0m\u001b[0;34m.\u001b[0m\u001b[0mnunique\u001b[0m\u001b[0;34m(\u001b[0m\u001b[0;34m)\u001b[0m \u001b[0;34m!=\u001b[0m \u001b[0mmovies\u001b[0m\u001b[0;34m.\u001b[0m\u001b[0mshape\u001b[0m\u001b[0;34m[\u001b[0m\u001b[0;36m0\u001b[0m\u001b[0;34m]\u001b[0m\u001b[0;34m:\u001b[0m\u001b[0;34m\u001b[0m\u001b[0m\n\u001b[1;32m      5\u001b[0m     \u001b[0mmovies\u001b[0m\u001b[0;34m[\u001b[0m\u001b[0mmovies\u001b[0m\u001b[0;34m.\u001b[0m\u001b[0mduplicated\u001b[0m\u001b[0;34m(\u001b[0m\u001b[0;34m[\u001b[0m\u001b[0;34m'title'\u001b[0m\u001b[0;34m]\u001b[0m\u001b[0;34m,\u001b[0m \u001b[0mkeep\u001b[0m\u001b[0;34m=\u001b[0m\u001b[0;32mFalse\u001b[0m\u001b[0;34m)\u001b[0m\u001b[0;34m]\u001b[0m\u001b[0;34m\u001b[0m\u001b[0m\n",
      "\u001b[0;31mNameError\u001b[0m: name 'InteractiveShell' is not defined"
     ]
    }
   ],
   "source": [
    "InteractiveShell.ast_node_interactivity = \"last_expr\"\n",
    "\n",
    "# Check for duplicates in movies; if they exist, show the duplicates\n",
    "if movies['title'].nunique() != movies.shape[0]:\n",
    "    movies[movies.duplicated(['title'], keep=False)]\n",
    "    \n",
    "# I am surprised by these duplicates as the movieIds are different :O\n",
    "# Decide what to do with the duplicates - remove the redundant rows\n",
    "movies = movies[movies['movieId'] != 64997]\n",
    "movies = movies[movies['movieId'] != 65665]"
   ]
  },
  {
   "cell_type": "code",
   "execution_count": 5,
   "metadata": {},
   "outputs": [],
   "source": [
    "# Check if an user rated the same movie more than once - if yes, drop them\n",
    "# ratings2 = ratings.drop_duplicates(['userId', 'movieId'])\n",
    "\n",
    "# Checking if any duplicates were dropped or not - luckily, no duplicates, hence we comment this cell\n",
    "# ratings2.shape[0] == ratings.shape[0]\n",
    "\n",
    "# We don't check duplicates in tags df as a movie can have multiple tags.\n",
    "# The data looks like one tag in each row and this is not a problem at the moment."
   ]
  },
  {
   "cell_type": "code",
   "execution_count": 6,
   "metadata": {},
   "outputs": [
    {
     "data": {
      "text/plain": [
       "rating\n",
       "0.5     868\n",
       "1.0    1959\n",
       "1.5    1204\n",
       "2.0    3130\n",
       "2.5    2409\n",
       "3.0    4771\n",
       "3.5    3612\n",
       "4.0    5141\n",
       "4.5    2454\n",
       "5.0    3127\n",
       "Name: movieId, dtype: int64"
      ]
     },
     "execution_count": 6,
     "metadata": {},
     "output_type": "execute_result"
    }
   ],
   "source": [
    "# Count the number of movies with each rating\n",
    "ratings.groupby('rating')['movieId'].nunique()"
   ]
  },
  {
   "cell_type": "code",
   "execution_count": 7,
   "metadata": {},
   "outputs": [
    {
     "data": {
      "image/png": "[encoded data removed]",
      "text/plain": [
       "<Figure size 432x288 with 1 Axes>"
      ]
     },
     "metadata": {
      "needs_background": "light"
     },
     "output_type": "display_data"
    }
   ],
   "source": [
    "# Plot a histogram showing the distribution of movie ratings\n",
    "sns.distplot(ratings['rating'], kde = False);\n",
    "# We see that users mostly leave a rating of 4 if they like the movie."
   ]
  },
  {
   "cell_type": "code",
   "execution_count": 8,
   "metadata": {},
   "outputs": [
    {
     "data": {
      "image/png": "[encoded data removed]",
      "text/plain": [
       "<Figure size 432x288 with 1 Axes>"
      ]
     },
     "metadata": {
      "needs_background": "light"
     },
     "output_type": "display_data"
    }
   ],
   "source": [
    "# Plot the number of movies with a particular tag for the first 15 tags\n",
    "tag_counts = tags['tag'].value_counts()\n",
    "tag_counts[:15].plot(kind='bar');"
   ]
  },
  {
   "cell_type": "code",
   "execution_count": 9,
   "metadata": {},
   "outputs": [
    {
     "data": {
      "text/plain": [
       "9125"
      ]
     },
     "execution_count": 9,
     "metadata": {},
     "output_type": "execute_result"
    }
   ],
   "source": [
    "# Count the number of movies\n",
    "movies['movieId'].count()"
   ]
  },
  {
   "cell_type": "code",
   "execution_count": 10,
   "metadata": {},
   "outputs": [
    {
     "data": {
      "image/png": "[encoded data removed]",
      "text/plain": [
       "<Figure size 1080x720 with 1 Axes>"
      ]
     },
     "metadata": {
      "needs_background": "light"
     },
     "output_type": "display_data"
    }
   ],
   "source": [
    "# Analysis of different genres\n",
    "# Removing NaN values\n",
    "\n",
    "# Check if all movies have genres listed - \n",
    "# For this we list out all unique genres\n",
    "\n",
    "# Split the genres column values\n",
    "f = lambda x: x[\"genres\"].split(\"|\")\n",
    "buf = movies.apply(f, axis = 1)\n",
    "\n",
    "# Count the number of each unique genre - can also use unique() instead of value_counts() to display the unqiue genres\n",
    "# we use value_counts() as we want to plot this data\n",
    "df = buf.apply(pd.Series).stack().value_counts().to_frame()\n",
    "df.reset_index(inplace = True)\n",
    "df.columns = ['genre', 'count']\n",
    "\n",
    "# Since we see that some movies have no genres listed, we delete these movies\n",
    "df = df[df.genre != '(no genres listed)']\n",
    "\n",
    "# Plot a bar chart to see the most popular genre among the viewers\n",
    "fig, ax = plt.subplots(figsize=(15,10))\n",
    "plt.barh(df['genre'], df['count']);\n",
    "\n",
    "# We see that 'Drama' is most popular followed by 'Comedy'."
   ]
  },
  {
   "cell_type": "markdown",
   "metadata": {},
   "source": [
    "## Euclidean Distance Score"
   ]
  },
  {
   "cell_type": "markdown",
   "metadata": {},
   "source": [
    "Euclidean distance is the square root of the sum of squared differences between corresponding elements of the two vectors. Euclidean distance is only appropriate for data measured on the same scale.\n",
    "\n",
    "euclidean_distance = 1/(1 + sqrt of sum of squares between two points)\n",
    "Clearly, this value varies between 0 to 1, where closeness to 1 implies greater similarity."
   ]
  },
  {
   "cell_type": "code",
   "execution_count": 11,
   "metadata": {},
   "outputs": [
    {
     "data": {
      "text/plain": [
       "1.0"
      ]
     },
     "execution_count": 11,
     "metadata": {},
     "output_type": "execute_result"
    }
   ],
   "source": [
    "def euclidean_distance(pid1, pid2):\n",
    "    \n",
    "    # Get details of pids 1 and 2\n",
    "    df_first = ratings.loc[ratings['userId'] == pid1]\n",
    "    df_second = ratings.loc[ratings['userId'] == pid2]\n",
    "    \n",
    "    # Find similar movies for pids 1 and 2\n",
    "    df = pd.merge(df_first, df_second, how = 'inner', on = 'movieId')\n",
    "    \n",
    "    # If no similar movie found, return 0 (no similarity)\n",
    "    if (len(df) == 0):\n",
    "        return 0\n",
    "    \n",
    "    # Compute the sum of squared differences between ratings\n",
    "    sum_of_squares = sum(pow((df['rating_x'] - df['rating_y']), 2))\n",
    "    return 1 / (1 + sum_of_squares)\n",
    "\n",
    "# Test the function: correlation should be 1\n",
    "euclidean_distance(1,1)"
   ]
  },
  {
   "cell_type": "markdown",
   "metadata": {},
   "source": [
    "## Pearson Correlation Score\n",
    "\n",
    "* Correlation between sets of data is a measure of how well they are related. It shows the linear relationship between two sets of data. In simple terms, it answers the question, Can I draw a line graph to represent the data?\n",
    "\n",
    "* Value varies between -1 to 1 with 0 implying no relation, -1 implying perfect negative correlation and 1 implying perfect positive correlation.\n",
    "\n"
   ]
  },
  {
   "cell_type": "code",
   "execution_count": 12,
   "metadata": {},
   "outputs": [
    {
     "data": {
      "text/plain": [
       "1.0"
      ]
     },
     "execution_count": 12,
     "metadata": {},
     "output_type": "execute_result"
    }
   ],
   "source": [
    "def pearson_score(pid1, pid2):\n",
    "    \n",
    "    # Get rating activity for pids 1 and 2\n",
    "    df_first = ratings.loc[ratings.userId == pid1]\n",
    "    df_second = ratings.loc[ratings.userId == pid2]\n",
    "    \n",
    "    # Get mutually rated items    \n",
    "    df = pd.merge(df_first, df_second, how = 'inner', on = 'movieId')\n",
    "    \n",
    "    # Check if they have common ratings\n",
    "    if (len(df) == 0):\n",
    "        return 0\n",
    "\n",
    "    else:\n",
    "        # Add up all the ratings\n",
    "        sum1 = sum(df['rating_x'])\n",
    "        sum2 = sum(df['rating_y'])\n",
    "    \n",
    "        # Sum up squares of ratings\n",
    "        sum1_square = sum(pow(df['rating_x'], 2))\n",
    "        sum2_square = sum(pow(df['rating_y'], 2))\n",
    "    \n",
    "        # Calculate the sum of products\n",
    "        product_sum = sum(df['rating_x'] * df['rating_y'])\n",
    "    \n",
    "        # Calculate the Pearson Score\n",
    "        numerator = product_sum - (sum1 * sum2 / len(df))\n",
    "        denominator = math.sqrt((sum1_square- pow(sum1, 2) / len(df)) * (sum2_square - pow(sum2, 2) / len(df)))\n",
    "    \n",
    "        if denominator == 0:\n",
    "            return 0\n",
    "    \n",
    "        else:\n",
    "            return numerator / denominator\n",
    "\n",
    "# Checking function by passing similar ID, Output should be 1\n",
    "pearson_score(1,1)"
   ]
  },
  {
   "cell_type": "markdown",
   "metadata": {},
   "source": [
    "## Getting results based on Pearson score"
   ]
  },
  {
   "cell_type": "code",
   "execution_count": 13,
   "metadata": {},
   "outputs": [],
   "source": [
    "# Gets recommendations for a person by using a weighted average of every other user's rankings\n",
    "def recommend(pid, similarity=pearson_score):\n",
    "    \n",
    "    totals = {} # a dictionary to contain the sum of product of movie ratings by other users multiplied by weight (similarity)\n",
    "    simSums = {} # a dictionary to contain the sum of weights for all users who have rated a particular movie.\n",
    "    \n",
    "    # create a df of pid's ratings\n",
    "    df_pid = ratings.loc[ratings['userId'] == pid]\n",
    "    \n",
    "    # iterate through the ids in the df of ratings provided by all but 'pid'\n",
    "    for id in ratings.loc[ratings['userId'] != pid]['userId']:\n",
    "        \n",
    "        # compute the similarity score between pid and id\n",
    "        sim = similarity(pid, id)\n",
    "        \n",
    "        # ignore a score of zero or negative correlation         \n",
    "        if sim > 0:\n",
    "            # create a df of rating by a particular id (note this id is not equal to pid)             \n",
    "            df_other = ratings.loc[ratings['userId'] == id]\n",
    "        \n",
    "            # find movies not seen by pid\n",
    "            moviedf = df_other[~df_other.movieId.isin(df_pid.movieId)]\n",
    "            \n",
    "            # \n",
    "            for movieid, rating in (np.array(moviedf[['movieId','rating']])):\n",
    "                \n",
    "                # similarity * rating\n",
    "                totals.setdefault(movieid, 0)\n",
    "                totals[movieid] += rating * sim\n",
    "            \n",
    "                # sum of similarities\n",
    "                simSums.setdefault(movieid, 0)\n",
    "                simSums[movieid] += sim\n",
    "            \n",
    "            # create a normalized list of tuples, [(score, id), ...]\n",
    "            ranking = [(t / simSums[movieid], movieid) for movieid, t in totals.items()]\n",
    "        \n",
    "            # sort the list based on score\n",
    "            ranking.sort()\n",
    "            ranking.reverse()\n",
    "            recommendedId = np.array([x[1] for x in ranking])\n",
    "            \n",
    "            # find the movie title and return top 5 recommendations\n",
    "            return np.array(movies[movies['movieId'].isin(recommendedId)]['title'])[:5]"
   ]
  },
  {
   "cell_type": "code",
   "execution_count": 14,
   "metadata": {},
   "outputs": [
    {
     "name": "stdout",
     "output_type": "stream",
     "text": [
      "GoldenEye (1995)\n",
      "Sense and Sensibility (1995)\n",
      "Clueless (1995)\n",
      "Seven (a.k.a. Se7en) (1995)\n",
      "Mighty Aphrodite (1995)\n"
     ]
    }
   ],
   "source": [
    "# Example recommendation\n",
    "# Recommends top 5 movies for the given UserID\n",
    "# userId ranges from 1 to 671\n",
    "rec = recommend(671)\n",
    "for movie in rec:\n",
    "    print (movie)"
   ]
  }
 ],
 "metadata": {
  "kernelspec": {
   "display_name": "Python 3",
   "language": "python",
   "name": "python3"
  },
  "language_info": {
   "codemirror_mode": {
    "name": "ipython",
    "version": 3
   },
   "file_extension": ".py",
   "mimetype": "text/x-python",
   "name": "python",
   "nbconvert_exporter": "python",
   "pygments_lexer": "ipython3",
   "version": "3.6.6"
  }
 },
 "nbformat": 4,
 "nbformat_minor": 1
}
